{
 "cells": [
  {
   "cell_type": "markdown",
   "metadata": {},
   "source": [
    "> Job hunting is all about human nature, and in it's essence is most like the human activity that we call *dating*. Both shake down to \"Do you like me?\" and \"Do I like you?\".  If the answer to both is \"Yes\" then it's \"Do you want to try goin steady?\""
   ]
  },
  {
   "cell_type": "markdown",
   "metadata": {},
   "source": [
    "Your question: \n",
    "* Are you going to give me a work environment that will enable me to at my most productive, where I feel useful and appreciated, and can make a difference?\n",
    "* You want to find that out now, before three years go by."
   ]
  },
  {
   "cell_type": "code",
   "execution_count": null,
   "metadata": {},
   "outputs": [],
   "source": []
  }
 ],
 "metadata": {
  "kernelspec": {
   "display_name": "Python 3",
   "language": "python",
   "name": "python3"
  },
  "language_info": {
   "codemirror_mode": {
    "name": "ipython",
    "version": 3
   },
   "file_extension": ".py",
   "mimetype": "text/x-python",
   "name": "python",
   "nbconvert_exporter": "python",
   "pygments_lexer": "ipython3",
   "version": "3.8.3"
  }
 },
 "nbformat": 4,
 "nbformat_minor": 4
}
