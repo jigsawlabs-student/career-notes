{
 "cells": [
  {
   "cell_type": "markdown",
   "metadata": {},
   "source": [
    "# Why it works"
   ]
  },
  {
   "cell_type": "markdown",
   "metadata": {},
   "source": [
    "1. Multiple descriptions of yourself\n",
    "    * By beginning with an inventory of who you are, you can think of yourself as an individual with *multiple skills and experiences* and so multiple job markets open up to you, not just one.\n",
    "\n",
    "2. You can describe in detail what you are looking for\n",
    "    * This helps your friends, Linkedin contacts and family to better help you.  \n",
    "\n",
    "3. You don't need to wait\n",
    "    * You can choose places that match who you are, and approach the, knowing that you have an asset there.  \n",
    "\n",
    "4. You can explain what's unique about you\n",
    "    * When you face competition, you can describe how you stand out."
   ]
  },
  {
   "cell_type": "markdown",
   "metadata": {},
   "source": [
    "### How to do Self-Inventory"
   ]
  },
  {
   "cell_type": "markdown",
   "metadata": {},
   "source": [
    "1. I am a person who \n",
    "* has had these experiences\n",
    "* is skilled at \n",
    "* is unique in this way"
   ]
  },
  {
   "cell_type": "code",
   "execution_count": null,
   "metadata": {},
   "outputs": [],
   "source": []
  }
 ],
 "metadata": {
  "kernelspec": {
   "display_name": "Python 3",
   "language": "python",
   "name": "python3"
  },
  "language_info": {
   "codemirror_mode": {
    "name": "ipython",
    "version": 3
   },
   "file_extension": ".py",
   "mimetype": "text/x-python",
   "name": "python",
   "nbconvert_exporter": "python",
   "pygments_lexer": "ipython3",
   "version": "3.8.3"
  }
 },
 "nbformat": 4,
 "nbformat_minor": 4
}
