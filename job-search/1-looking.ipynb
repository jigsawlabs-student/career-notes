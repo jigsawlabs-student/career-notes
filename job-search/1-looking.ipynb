{
 "cells": [
  {
   "cell_type": "markdown",
   "metadata": {},
   "source": [
    "# The Parachute Approach"
   ]
  },
  {
   "cell_type": "markdown",
   "metadata": {},
   "source": [
    "### The Gist"
   ]
  },
  {
   "cell_type": "markdown",
   "metadata": {},
   "source": [
    "> Don't begin with the job market but with yourself.  Figure out who you are, and among all your gifts, which ones you most love to use.  Then (and only then) you go looking for organizations that match *You*.  And approach them regardless of a vacancy, not through a resume but through a *person*.  Soecifically a **bridge-person**, someone who knows you and knows *them*.  And therefore is a bridge between you two."
   ]
  },
  {
   "cell_type": "markdown",
   "metadata": {},
   "source": [
    "What to ask about:\n",
    "* Learn about the place, the job there, and how you can helpo. \n",
    "\n",
    "Want to find out:\n",
    "\n",
    "* Can I do the work I most love to do, and at the same time help them?"
   ]
  },
  {
   "cell_type": "markdown",
   "metadata": {},
   "source": [
    "### The most successful approach"
   ]
  },
  {
   "cell_type": "markdown",
   "metadata": {},
   "source": [
    "* Do you know of any place where someone with your talents and backgrounds is being sought.  "
   ]
  },
  {
   "cell_type": "markdown",
   "metadata": {},
   "source": [
    "\"I'm very much a believer in knowing what it is that you love doing So that you can deal a great deal of it.\"  Nora Ephron"
   ]
  },
  {
   "cell_type": "code",
   "execution_count": null,
   "metadata": {},
   "outputs": [],
   "source": []
  }
 ],
 "metadata": {
  "kernelspec": {
   "display_name": "Python 3",
   "language": "python",
   "name": "python3"
  },
  "language_info": {
   "codemirror_mode": {
    "name": "ipython",
    "version": 3
   },
   "file_extension": ".py",
   "mimetype": "text/x-python",
   "name": "python",
   "nbconvert_exporter": "python",
   "pygments_lexer": "ipython3",
   "version": "3.8.3"
  }
 },
 "nbformat": 4,
 "nbformat_minor": 4
}
