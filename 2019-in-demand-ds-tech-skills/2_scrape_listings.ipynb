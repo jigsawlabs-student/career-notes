{
 "cells": [
  {
   "cell_type": "code",
   "execution_count": null,
   "metadata": {},
   "outputs": [],
   "source": []
  },
  {
   "cell_type": "code",
   "execution_count": 1,
   "metadata": {},
   "outputs": [],
   "source": [
    "# Import necessary libraries\n",
    "import pandas as pd\n",
    "import numpy as np\n",
    "from bs4 import BeautifulSoup as bs\n",
    "import requests\n",
    "import matplotlib.pyplot as plt"
   ]
  },
  {
   "cell_type": "code",
   "execution_count": 7,
   "metadata": {},
   "outputs": [],
   "source": [
    "from job_scraper import get_job_cards, title_and_description_from, extract_requirements_from, tech_tags, get_title_and_desc"
   ]
  },
  {
   "cell_type": "code",
   "execution_count": 4,
   "metadata": {},
   "outputs": [],
   "source": [
    "total_cards = []\n",
    "for i in range(0, 10000, 10):\n",
    "    total_cards += get_job_cards(i)"
   ]
  },
  {
   "cell_type": "code",
   "execution_count": null,
   "metadata": {},
   "outputs": [],
   "source": [
    "len(total_cards)\n",
    "\n",
    "# 8992"
   ]
  },
  {
   "cell_type": "code",
   "execution_count": null,
   "metadata": {},
   "outputs": [],
   "source": [
    "id_title_descriptions = []\n",
    "for card in total_cards:\n",
    "    id_title_descriptions.append(get_title_and_desc(card))"
   ]
  },
  {
   "cell_type": "code",
   "execution_count": null,
   "metadata": {},
   "outputs": [],
   "source": [
    "title_description_df = pd.DataFrame(id_title_descriptions, columns = ['id_string', 'title', 'desc'])"
   ]
  },
  {
   "cell_type": "code",
   "execution_count": null,
   "metadata": {},
   "outputs": [],
   "source": [
    "title_description_df.shape"
   ]
  },
  {
   "cell_type": "code",
   "execution_count": null,
   "metadata": {},
   "outputs": [],
   "source": [
    "title_description_df.to_csv('./data_engineer_listings.csv')"
   ]
  },
  {
   "cell_type": "code",
   "execution_count": 48,
   "metadata": {},
   "outputs": [],
   "source": [
    "# title_description_df.shape"
   ]
  },
  {
   "cell_type": "markdown",
   "metadata": {},
   "source": [
    "### Read Listings"
   ]
  },
  {
   "cell_type": "code",
   "execution_count": 1,
   "metadata": {},
   "outputs": [],
   "source": [
    "import pandas as pd\n",
    "listings_df = pd.read_csv('./data_engineer_listings.csv', index_col = 0)"
   ]
  },
  {
   "cell_type": "code",
   "execution_count": 1,
   "metadata": {},
   "outputs": [],
   "source": [
    "relevant_jobs = ['Data Acquisition Engineer', 'Cloud Engineer', 'Data Warehouse/ ETL Test Engineer', 'Data Engineer',]"
   ]
  },
  {
   "cell_type": "code",
   "execution_count": 3,
   "metadata": {},
   "outputs": [],
   "source": [
    "selected_jobs = [listings_df[listings_df.title == relevant_job] for relevant_job in relevant_jobs]\n"
   ]
  },
  {
   "cell_type": "code",
   "execution_count": 4,
   "metadata": {},
   "outputs": [],
   "source": [
    "selected_jobs_df = pd.concat(selected_jobs).reset_index()"
   ]
  },
  {
   "cell_type": "code",
   "execution_count": 5,
   "metadata": {},
   "outputs": [
    {
     "data": {
      "text/plain": [
       "(887, 4)"
      ]
     },
     "execution_count": 5,
     "metadata": {},
     "output_type": "execute_result"
    }
   ],
   "source": [
    "selected_jobs_df.shape"
   ]
  },
  {
   "cell_type": "code",
   "execution_count": 8,
   "metadata": {},
   "outputs": [],
   "source": [
    "requirements_dfs = [extract_requirements_from(idx, row) for idx, row in selected_jobs_df.iterrows()]    "
   ]
  },
  {
   "cell_type": "code",
   "execution_count": 9,
   "metadata": {},
   "outputs": [],
   "source": [
    "combined_requirements_df = pd.concat(requirements_dfs).reset_index(drop = True)"
   ]
  },
  {
   "cell_type": "code",
   "execution_count": 9,
   "metadata": {},
   "outputs": [],
   "source": [
    "# combined_requirements_df[:30]"
   ]
  },
  {
   "cell_type": "code",
   "execution_count": 10,
   "metadata": {},
   "outputs": [],
   "source": [
    "total_tags = []\n",
    "for idx in combined_requirements_df.index:\n",
    "    total_tags += tech_tags(idx, combined_requirements_df) \n",
    "    \n",
    "tag_df = pd.DataFrame(total_tags, columns = ['description_id', 'listing_id', 'tag'])"
   ]
  },
  {
   "cell_type": "code",
   "execution_count": 12,
   "metadata": {},
   "outputs": [],
   "source": [
    "tag_percents = (tag_df['tag'].value_counts()/887)"
   ]
  },
  {
   "cell_type": "code",
   "execution_count": 17,
   "metadata": {},
   "outputs": [
    {
     "data": {
      "text/plain": [
       "Java             0.571590\n",
       "SQL              0.552424\n",
       "Python           0.550169\n",
       "Javascript       0.297632\n",
       "1 year           0.297632\n",
       "AWS              0.289741\n",
       "Shell            0.284104\n",
       "ETL              0.245772\n",
       "Testing          0.173619\n",
       "2 years          0.149944\n",
       "Spark            0.128523\n",
       "Data Pipeline    0.117249\n",
       "Azure            0.105975\n",
       "Kafka            0.092446\n",
       "Communication    0.087937\n",
       "C++              0.078918\n",
       "Git              0.072153\n",
       "OOP              0.065389\n",
       "Airflow          0.063134\n",
       "Excel            0.060879\n",
       "Name: tag, dtype: float64"
      ]
     },
     "execution_count": 17,
     "metadata": {},
     "output_type": "execute_result"
    }
   ],
   "source": [
    "tag_percents[:20]"
   ]
  },
  {
   "cell_type": "code",
   "execution_count": null,
   "metadata": {},
   "outputs": [],
   "source": [
    "Python, Java, Javascript\n",
    "ETL\n",
    "Testing\n",
    "SQL, Shell\n",
    "AWS, Azure\n",
    "Spark, Kafka\n",
    "Communication"
   ]
  },
  {
   "cell_type": "code",
   "execution_count": null,
   "metadata": {},
   "outputs": [],
   "source": [
    "# 13 skills "
   ]
  },
  {
   "cell_type": "code",
   "execution_count": 44,
   "metadata": {},
   "outputs": [],
   "source": [
    "tag_df.to_csv('./relevant_listing_tags.csv')"
   ]
  },
  {
   "cell_type": "code",
   "execution_count": null,
   "metadata": {},
   "outputs": [],
   "source": [
    "Python, OOP\n",
    "SQL\n",
    "Testing\n",
    "ETL\n",
    "Shell, Git\n",
    "Flask\n",
    "\n",
    "AWS\n",
    "Docker, Kubernetes\n",
    "Spark\n",
    "\n",
    "Airflow (Workflow management)\n",
    "Kafka (streaming data)"
   ]
  },
  {
   "cell_type": "code",
   "execution_count": 51,
   "metadata": {},
   "outputs": [
    {
     "data": {
      "text/plain": [
       "Java             0.569663\n",
       "SQL              0.550562\n",
       "Python           0.548315\n",
       "Javascript       0.296629\n",
       "AWS              0.288764\n",
       "Shell            0.283146\n",
       "ETL              0.244944\n",
       "Testing          0.173034\n",
       "Spark            0.128090\n",
       "Data Pipeline    0.116854\n",
       "Azure            0.105618\n",
       "C++              0.078652\n",
       "Git              0.071910\n",
       "OOP              0.065169\n",
       "Airflow          0.062921\n",
       "Excel            0.060674\n",
       "Hadoop           0.060674\n",
       "NoSQL            0.058427\n",
       "Scala            0.056180\n",
       "Redshift         0.051685\n",
       "Google Cloud     0.040449\n",
       "Docker           0.038202\n",
       "Kubernetes       0.031461\n",
       "Tableau          0.029213\n",
       "GCP              0.026966\n",
       "MySQL            0.022472\n",
       "Hive             0.020225\n",
       "postgresql       0.017978\n",
       "Databricks       0.017978\n",
       "MongoDB          0.017978\n",
       "Pandas           0.017978\n",
       "BigQuery         0.015730\n",
       "Scikit-learn     0.013483\n",
       "Cassandra        0.013483\n",
       "Pyspark          0.013483\n",
       "Linux            0.011236\n",
       "Data Lake        0.011236\n",
       "EMR              0.008989\n",
       "Django           0.008989\n",
       "NumPy            0.008989\n",
       "Pig              0.006742\n",
       "Hbase            0.006742\n",
       "Matlab           0.004494\n",
       "C#               0.004494\n",
       " R               0.004494\n",
       "D3               0.004494\n",
       "SAS              0.002247\n",
       "Perl             0.002247\n",
       "SPSS             0.002247\n",
       "test driven      0.002247\n",
       "Name: tag, dtype: float64"
      ]
     },
     "execution_count": 51,
     "metadata": {},
     "output_type": "execute_result"
    }
   ],
   "source": [
    "tag_df['tag'].value_counts()/890"
   ]
  },
  {
   "cell_type": "code",
   "execution_count": null,
   "metadata": {},
   "outputs": [],
   "source": []
  }
 ],
 "metadata": {
  "kernelspec": {
   "display_name": "Python 3",
   "language": "python",
   "name": "python3"
  },
  "language_info": {
   "codemirror_mode": {
    "name": "ipython",
    "version": 3
   },
   "file_extension": ".py",
   "mimetype": "text/x-python",
   "name": "python",
   "nbconvert_exporter": "python",
   "pygments_lexer": "ipython3",
   "version": "3.8.3"
  }
 },
 "nbformat": 4,
 "nbformat_minor": 4
}
