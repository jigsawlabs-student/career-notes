{
 "cells": [
  {
   "cell_type": "code",
   "execution_count": null,
   "metadata": {},
   "outputs": [],
   "source": []
  },
  {
   "cell_type": "code",
   "execution_count": 2,
   "metadata": {},
   "outputs": [],
   "source": [
    "# Import necessary libraries\n",
    "import pandas as pd\n",
    "import numpy as np\n",
    "from bs4 import BeautifulSoup as bs\n",
    "import requests\n",
    "import matplotlib.pyplot as plt"
   ]
  },
  {
   "cell_type": "code",
   "execution_count": 3,
   "metadata": {},
   "outputs": [],
   "source": [
    "from job_scraper import get_job_cards, title_and_description_from, extract_requirements_from, tech_tags, get_title_and_desc"
   ]
  },
  {
   "cell_type": "code",
   "execution_count": 4,
   "metadata": {},
   "outputs": [],
   "source": [
    "total_cards = []\n",
    "for i in range(0, 600, 10):\n",
    "    total_cards += get_job_cards(i, position = 'data scientist') "
   ]
  },
  {
   "cell_type": "code",
   "execution_count": 5,
   "metadata": {},
   "outputs": [
    {
     "data": {
      "text/plain": [
       "902"
      ]
     },
     "execution_count": 5,
     "metadata": {},
     "output_type": "execute_result"
    }
   ],
   "source": [
    "len(total_cards)\n",
    "\n",
    "# 8992"
   ]
  },
  {
   "cell_type": "code",
   "execution_count": 6,
   "metadata": {},
   "outputs": [],
   "source": [
    "id_title_descriptions = []\n",
    "for card in total_cards:\n",
    "    id_title_descriptions.append(get_title_and_desc(card))"
   ]
  },
  {
   "cell_type": "code",
   "execution_count": 7,
   "metadata": {},
   "outputs": [],
   "source": [
    "title_description_df = pd.DataFrame(id_title_descriptions, columns = ['id_string', 'title', 'desc'])"
   ]
  },
  {
   "cell_type": "code",
   "execution_count": 8,
   "metadata": {},
   "outputs": [
    {
     "data": {
      "text/plain": [
       "(902, 3)"
      ]
     },
     "execution_count": 8,
     "metadata": {},
     "output_type": "execute_result"
    }
   ],
   "source": [
    "title_description_df.shape"
   ]
  },
  {
   "cell_type": "code",
   "execution_count": 9,
   "metadata": {},
   "outputs": [],
   "source": [
    "title_description_df.to_csv('./data_scientist_listings_sept_28.csv')"
   ]
  },
  {
   "cell_type": "code",
   "execution_count": 48,
   "metadata": {},
   "outputs": [],
   "source": [
    "# title_description_df.shape"
   ]
  },
  {
   "cell_type": "markdown",
   "metadata": {},
   "source": [
    "### Read Listings"
   ]
  },
  {
   "cell_type": "code",
   "execution_count": 10,
   "metadata": {},
   "outputs": [],
   "source": [
    "import pandas as pd\n",
    "# listings_df = pd.read_csv('./data_scientist_listings_sept_28.csv', index_col = 0)"
   ]
  },
  {
   "cell_type": "code",
   "execution_count": 4,
   "metadata": {},
   "outputs": [
    {
     "data": {
      "text/plain": [
       "Data Scientist                                   155\n",
       "Machine Learning Engineer                         15\n",
       "Data Science Intern                               13\n",
       "Lead Data Scientist                               11\n",
       "Junior Data Scientist                             10\n",
       "                                                ... \n",
       "Materials Science Postdoc-Data Analytics           1\n",
       "Actuary Analyst                                    1\n",
       "R&D Web Developer Intern - Data and Analytics      1\n",
       "Domain Data Scientist                              1\n",
       "Data Science Content Author                        1\n",
       "Name: title, Length: 538, dtype: int64"
      ]
     },
     "execution_count": 4,
     "metadata": {},
     "output_type": "execute_result"
    }
   ],
   "source": [
    "listings_df.title.value_counts()"
   ]
  },
  {
   "cell_type": "code",
   "execution_count": 11,
   "metadata": {},
   "outputs": [],
   "source": [
    "# relevant_jobs = ['Data Acquisition Engineer', 'Cloud Engineer', 'Data Warehouse/ ETL Test Engineer', 'Data Engineer', 'Data Engineer']"
   ]
  },
  {
   "cell_type": "code",
   "execution_count": 2,
   "metadata": {},
   "outputs": [],
   "source": [
    "selected_jobs_df = listings_df[listings_df.title == 'Data Scientist']"
   ]
  },
  {
   "cell_type": "code",
   "execution_count": 5,
   "metadata": {},
   "outputs": [],
   "source": [
    "requirements_dfs = [extract_requirements_from(idx, row) for idx, row in selected_jobs_df.iterrows()]    "
   ]
  },
  {
   "cell_type": "code",
   "execution_count": 6,
   "metadata": {},
   "outputs": [],
   "source": [
    "combined_requirements_df = pd.concat(requirements_dfs).reset_index(drop = True)"
   ]
  },
  {
   "cell_type": "code",
   "execution_count": 6,
   "metadata": {},
   "outputs": [
    {
     "data": {
      "text/plain": [
       "(155, 3)"
      ]
     },
     "execution_count": 6,
     "metadata": {},
     "output_type": "execute_result"
    }
   ],
   "source": [
    "selected_jobs_df.shape"
   ]
  },
  {
   "cell_type": "code",
   "execution_count": 7,
   "metadata": {},
   "outputs": [],
   "source": [
    "total_tags = []\n",
    "for idx in combined_requirements_df.index:\n",
    "    total_tags += tech_tags(idx, combined_requirements_df) \n",
    "    \n",
    "tag_df = pd.DataFrame(total_tags, columns = ['description_id', 'listing_id', 'tag'])"
   ]
  },
  {
   "cell_type": "code",
   "execution_count": 9,
   "metadata": {},
   "outputs": [],
   "source": [
    "tag_df.to_csv('./relevant_listing_tags.csv')"
   ]
  },
  {
   "cell_type": "code",
   "execution_count": 10,
   "metadata": {},
   "outputs": [],
   "source": [
    "tag_percents = (tag_df['tag'].value_counts()/155)"
   ]
  },
  {
   "cell_type": "code",
   "execution_count": null,
   "metadata": {},
   "outputs": [],
   "source": [
    "# 32"
   ]
  },
  {
   "cell_type": "code",
   "execution_count": 13,
   "metadata": {},
   "outputs": [
    {
     "data": {
      "text/plain": [
       "Python                         0.980645\n",
       "Statistics                     0.709677\n",
       "SQL                            0.529032\n",
       "Excel                          0.432258\n",
       "Communication                  0.425806\n",
       "OOP                            0.393548\n",
       "Spark                          0.322581\n",
       "Visualization                  0.316129\n",
       "Hadoop                         0.309677\n",
       "Git                            0.258065\n",
       "Java                           0.258065\n",
       "Regression                     0.225806\n",
       "1 year                         0.212903\n",
       "Tableau                        0.193548\n",
       "Stakeholder                    0.187097\n",
       "Pandas                         0.167742\n",
       "Testing                        0.167742\n",
       "Deep Learning                  0.167742\n",
       "Scikit                         0.161290\n",
       "Scala                          0.141935\n",
       " R                             0.141935\n",
       "SAS                            0.141935\n",
       "Hive                           0.135484\n",
       "Metric                         0.135484\n",
       "Phd                            0.109677\n",
       "NumPy                          0.103226\n",
       "ETL                            0.096774\n",
       "AWS                            0.096774\n",
       "C++                            0.090323\n",
       "Neural Networks                0.090323\n",
       "Matlab                         0.090323\n",
       "TensorFlow                     0.083871\n",
       "Keras                          0.083871\n",
       "Natural Language Processing    0.083871\n",
       "Name: tag, dtype: float64"
      ]
     },
     "execution_count": 13,
     "metadata": {},
     "output_type": "execute_result"
    }
   ],
   "source": [
    "tag_percents[tag_percents > .08]"
   ]
  },
  {
   "cell_type": "code",
   "execution_count": null,
   "metadata": {},
   "outputs": [],
   "source": []
  }
 ],
 "metadata": {
  "kernelspec": {
   "display_name": "Python 3",
   "language": "python",
   "name": "python3"
  },
  "language_info": {
   "codemirror_mode": {
    "name": "ipython",
    "version": 3
   },
   "file_extension": ".py",
   "mimetype": "text/x-python",
   "name": "python",
   "nbconvert_exporter": "python",
   "pygments_lexer": "ipython3",
   "version": "3.8.3"
  }
 },
 "nbformat": 4,
 "nbformat_minor": 4
}
