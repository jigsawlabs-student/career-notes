{
 "cells": [
  {
   "cell_type": "code",
   "execution_count": null,
   "metadata": {},
   "outputs": [],
   "source": []
  },
  {
   "cell_type": "code",
   "execution_count": 1,
   "metadata": {},
   "outputs": [],
   "source": [
    "# Import necessary libraries\n",
    "import pandas as pd\n",
    "import numpy as np\n",
    "from bs4 import BeautifulSoup as bs\n",
    "import requests\n",
    "import matplotlib.pyplot as plt"
   ]
  },
  {
   "cell_type": "code",
   "execution_count": 3,
   "metadata": {},
   "outputs": [],
   "source": [
    "from job_scraper import get_job_cards, title_and_description_from, extract_requirements_from, tech_tags, get_title_and_desc"
   ]
  },
  {
   "cell_type": "code",
   "execution_count": 7,
   "metadata": {},
   "outputs": [],
   "source": [
    "total_cards = []\n",
    "for i in range(0, 770, 10):\n",
    "    total_cards += get_job_cards(i, position = 'machine learning engineer') "
   ]
  },
  {
   "cell_type": "code",
   "execution_count": 20,
   "metadata": {},
   "outputs": [
    {
     "data": {
      "text/plain": [
       "1146"
      ]
     },
     "execution_count": 20,
     "metadata": {},
     "output_type": "execute_result"
    }
   ],
   "source": [
    "len(total_cards)\n",
    "# 8992"
   ]
  },
  {
   "cell_type": "code",
   "execution_count": 9,
   "metadata": {},
   "outputs": [],
   "source": [
    "id_title_descriptions = []\n",
    "for card in total_cards:\n",
    "    id_title_descriptions.append(get_title_and_desc(card))"
   ]
  },
  {
   "cell_type": "code",
   "execution_count": 10,
   "metadata": {},
   "outputs": [],
   "source": [
    "title_description_df = pd.DataFrame(id_title_descriptions, columns = ['id_string', 'title', 'desc'])"
   ]
  },
  {
   "cell_type": "code",
   "execution_count": 7,
   "metadata": {},
   "outputs": [
    {
     "data": {
      "text/plain": [
       "(906, 3)"
      ]
     },
     "execution_count": 7,
     "metadata": {},
     "output_type": "execute_result"
    }
   ],
   "source": [
    "title_description_df.shape"
   ]
  },
  {
   "cell_type": "code",
   "execution_count": 11,
   "metadata": {},
   "outputs": [],
   "source": [
    "title_description_df.to_csv('./machine_learning_listings.csv')"
   ]
  },
  {
   "cell_type": "code",
   "execution_count": 48,
   "metadata": {},
   "outputs": [],
   "source": [
    "# title_description_df.shape"
   ]
  },
  {
   "cell_type": "markdown",
   "metadata": {},
   "source": [
    "### Read Listings"
   ]
  },
  {
   "cell_type": "code",
   "execution_count": 12,
   "metadata": {},
   "outputs": [],
   "source": [
    "import pandas as pd\n",
    "listings_df = pd.read_csv('./machine_learning_listings.csv', index_col = 0)"
   ]
  },
  {
   "cell_type": "code",
   "execution_count": 13,
   "metadata": {},
   "outputs": [
    {
     "data": {
      "text/plain": [
       "Machine Learning Engineer                                          52\n",
       "Data Engineer                                                      25\n",
       "Software Engineer                                                  24\n",
       "Software Engineer, Machine Learning                                13\n",
       "Full Time Opportunities for PhD Students or Recent Graduates...    10\n",
       "                                                                   ..\n",
       "Technical Solutions Engineer, Users and Products                    1\n",
       "Full-Stack Engineer                                                 1\n",
       "Neural, physiological, and behavioral time series analyses          1\n",
       "Optical Scientist/Engineer                                          1\n",
       "New College Graduate - Product Engineer                             1\n",
       "Name: title, Length: 700, dtype: int64"
      ]
     },
     "execution_count": 13,
     "metadata": {},
     "output_type": "execute_result"
    }
   ],
   "source": [
    "listings_df.title.value_counts()"
   ]
  },
  {
   "cell_type": "code",
   "execution_count": 11,
   "metadata": {},
   "outputs": [],
   "source": [
    "# relevant_jobs = ['Data Acquisition Engineer', 'Cloud Engineer', 'Data Warehouse/ ETL Test Engineer', 'Data Engineer', 'Data Engineer']"
   ]
  },
  {
   "cell_type": "code",
   "execution_count": 14,
   "metadata": {},
   "outputs": [],
   "source": [
    "selected_jobs_df = listings_df[listings_df.title == 'Machine Learning Engineer']"
   ]
  },
  {
   "cell_type": "code",
   "execution_count": 15,
   "metadata": {},
   "outputs": [],
   "source": [
    "requirements_dfs = [extract_requirements_from(idx, row) for idx, row in selected_jobs_df.iterrows()]    "
   ]
  },
  {
   "cell_type": "code",
   "execution_count": 16,
   "metadata": {},
   "outputs": [],
   "source": [
    "combined_requirements_df = pd.concat(requirements_dfs).reset_index(drop = True)"
   ]
  },
  {
   "cell_type": "code",
   "execution_count": 17,
   "metadata": {},
   "outputs": [
    {
     "data": {
      "text/plain": [
       "(52, 3)"
      ]
     },
     "execution_count": 17,
     "metadata": {},
     "output_type": "execute_result"
    }
   ],
   "source": [
    "selected_jobs_df.shape"
   ]
  },
  {
   "cell_type": "code",
   "execution_count": 18,
   "metadata": {},
   "outputs": [],
   "source": [
    "total_tags = []\n",
    "for idx in combined_requirements_df.index:\n",
    "    total_tags += tech_tags(idx, combined_requirements_df) \n",
    "    \n",
    "tag_df = pd.DataFrame(total_tags, columns = ['description_id', 'listing_id', 'tag'])"
   ]
  },
  {
   "cell_type": "code",
   "execution_count": 9,
   "metadata": {},
   "outputs": [],
   "source": [
    "tag_df.to_csv('./relevant_listing_tags.csv')"
   ]
  },
  {
   "cell_type": "code",
   "execution_count": 19,
   "metadata": {},
   "outputs": [
    {
     "data": {
      "text/plain": [
       "Python                         1.019231\n",
       "TensorFlow                     0.673077\n",
       "Deep Learning                  0.519231\n",
       "PyTorch                        0.480769\n",
       "Java                           0.461538\n",
       "Testing                        0.442308\n",
       "Stakeholder                    0.365385\n",
       "Keras                          0.365385\n",
       "Statistics                     0.365385\n",
       "Scala                          0.288462\n",
       "Spark                          0.250000\n",
       "Docker                         0.250000\n",
       "C++                            0.250000\n",
       "Communication                  0.230769\n",
       "OOP                            0.230769\n",
       "Hadoop                         0.230769\n",
       "Git                            0.211538\n",
       "SQL                            0.211538\n",
       "AWS                            0.192308\n",
       "Matlab                         0.192308\n",
       "Sklearn                        0.173077\n",
       "Javascript                     0.153846\n",
       "Kubernetes                     0.153846\n",
       "Linux                          0.153846\n",
       "Neural Networks                0.134615\n",
       "Scikit                         0.134615\n",
       "Excel                          0.134615\n",
       "Pandas                         0.115385\n",
       "Caffe                          0.115385\n",
       "Phd                            0.115385\n",
       "NumPy                          0.096154\n",
       "Django                         0.096154\n",
       "Linear Algebra                 0.096154\n",
       "Flask                          0.096154\n",
       "C#                             0.076923\n",
       "1 year                         0.076923\n",
       "Masters                        0.076923\n",
       "2 years                        0.076923\n",
       "Metric                         0.076923\n",
       "Natural Language Processing    0.057692\n",
       "Name: tag, dtype: float64"
      ]
     },
     "execution_count": 19,
     "metadata": {},
     "output_type": "execute_result"
    }
   ],
   "source": [
    "(tag_df['tag'].value_counts()/52)[:40]"
   ]
  },
  {
   "cell_type": "code",
   "execution_count": null,
   "metadata": {},
   "outputs": [],
   "source": []
  }
 ],
 "metadata": {
  "kernelspec": {
   "display_name": "Python 3",
   "language": "python",
   "name": "python3"
  },
  "language_info": {
   "codemirror_mode": {
    "name": "ipython",
    "version": 3
   },
   "file_extension": ".py",
   "mimetype": "text/x-python",
   "name": "python",
   "nbconvert_exporter": "python",
   "pygments_lexer": "ipython3",
   "version": "3.8.3"
  }
 },
 "nbformat": 4,
 "nbformat_minor": 4
}
